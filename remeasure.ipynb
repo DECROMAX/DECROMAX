{
  "nbformat": 4,
  "nbformat_minor": 0,
  "metadata": {
    "colab": {
      "name": "remeasure.ipynb",
      "provenance": [],
      "collapsed_sections": [],
      "authorship_tag": "ABX9TyPaIretHjC159hYJWDPFPVg",
      "include_colab_link": true
    },
    "kernelspec": {
      "name": "python3",
      "display_name": "Python 3"
    },
    "language_info": {
      "name": "python"
    }
  },
  "cells": [
    {
      "cell_type": "markdown",
      "metadata": {
        "id": "view-in-github",
        "colab_type": "text"
      },
      "source": [
        "<a href=\"https://colab.research.google.com/github/DECROMAX/DECROMAX/blob/main/remeasure.ipynb\" target=\"_parent\"><img src=\"https://colab.research.google.com/assets/colab-badge.svg\" alt=\"Open In Colab\"/></a>"
      ]
    },
    {
      "cell_type": "code",
      "metadata": {
        "id": "xeilKekxW-g7"
      },
      "source": [
        "import pandas as pd\n",
        "import datetime\n",
        "# need to export current re-measure with stored as id stored as text\n",
        "\n",
        "# Task details rpt / re measure mapping rpt  path's \n",
        "df = pd.read_csv('/content/TaskDetails_rpt (4).csv')  # once 'TaskDetails' is uploaded change path\n",
        "df3 = pd.read_csv('/content/RE-Measure Mapping Report.csv', skiprows=1)  # once 'Re-Measure' is uploaded change to xls \n",
        "print(list(df))\n",
        "df2 = df[['CapeNo3', 'Supervisor', 'ClientRequester', 'Location2', 'LocationDescription', 'ErCompleteDate', 'Trade', 'Comments']]\n"
      ],
      "execution_count": null,
      "outputs": []
    },
    {
      "cell_type": "code",
      "metadata": {
        "id": "qewtebfUb892"
      },
      "source": [
        "# Filter trade col for Access\n",
        "access_filt = df.Trade == 'Access'\n",
        "is_access = pd.Series(access_filt)\n",
        "df2 = df2[is_access]\n",
        "\n",
        "# remove NaN from df2 ErCompleteDate col\n",
        "df2 = df2[df2['ErCompleteDate'].notna()]\n",
        "\n",
        "# Convert ErCompleteDate from object to datetime, Filter ErCompleteDate to last 90 days \n",
        "df2['ErCompleteDate'] = pd.to_datetime(df2['ErCompleteDate'],format=\"%d/%m/%Y\")\n",
        "date_range_filt = df2.ErCompleteDate > datetime.datetime.now() - pd.to_timedelta(\"90day\")  \n",
        "df2 = df2[date_range_filt]\n",
        "df2\n",
        "# rename df2 col\n",
        "df2.rename(columns={'CapeNo3': 'Scaffold ID', \n",
        "                    'ClientRequester': 'Client Requester',\n",
        "                    'Location2': 'BLK Location',\n",
        "                    'LocationDescription': 'Location Description',\n",
        "                    'ErCompleteDate': 'Erect date'}, inplace=True)\n",
        "# Drop Trade from df2 \n",
        "df2['Location Description'] = df2['Location Description'] + ' ' + df2['Comments']\n",
        "\n",
        "df2.drop('Trade', axis=1, inplace=True)\n",
        "df2.drop('Comments', axis=1, inplace=True)\n",
        "\n",
        "# Concatenate df3 and df2 and drop duplicates from df2 (assign to df4)\n",
        "#df4 = pd.concat([df3,df2]).drop_duplicates(subset=['Scaffold ID'], keep='first')\n",
        "frame = [df3, df2]\n",
        "df4 = pd.concat(frame)\\\n",
        "       .drop_duplicates(subset=['Scaffold ID'], keep='first')\n",
        "# df4 = df4.drop(df2.index & df3.index, 0)\\\n",
        "      #  .drop(set(df2.columns) - set(df2.columns), 1)\n",
        "\n",
        "\n",
        "#df4 = pd.merge([df3, df2]) # not used \n",
        "#result_df = df4.drop_duplicates(keep='first') # not used"
      ],
      "execution_count": null,
      "outputs": []
    },
    {
      "cell_type": "code",
      "metadata": {
        "id": "h_dW0R3DoxGh"
      },
      "source": [
        "#pd.set_option('display.max_rows', 50)\n",
        "#pd.set_option('display.max_columns', 20)\n",
        "#df3\n"
      ],
      "execution_count": null,
      "outputs": []
    },
    {
      "cell_type": "code",
      "metadata": {
        "id": "Pic6JnD0-dln",
        "colab": {
          "base_uri": "https://localhost:8080/",
          "height": 17
        },
        "outputId": "67b21ed6-7431-4c32-e7a2-b8354efc9f3d"
      },
      "source": [
        "from google.colab import files\n",
        "\n",
        "df4.to_excel('remeasure_test.xls', index=False)\n",
        "files.download('remeasure_test.xls')"
      ],
      "execution_count": null,
      "outputs": [
        {
          "output_type": "display_data",
          "data": {
            "application/javascript": [
              "\n",
              "    async function download(id, filename, size) {\n",
              "      if (!google.colab.kernel.accessAllowed) {\n",
              "        return;\n",
              "      }\n",
              "      const div = document.createElement('div');\n",
              "      const label = document.createElement('label');\n",
              "      label.textContent = `Downloading \"${filename}\": `;\n",
              "      div.appendChild(label);\n",
              "      const progress = document.createElement('progress');\n",
              "      progress.max = size;\n",
              "      div.appendChild(progress);\n",
              "      document.body.appendChild(div);\n",
              "\n",
              "      const buffers = [];\n",
              "      let downloaded = 0;\n",
              "\n",
              "      const channel = await google.colab.kernel.comms.open(id);\n",
              "      // Send a message to notify the kernel that we're ready.\n",
              "      channel.send({})\n",
              "\n",
              "      for await (const message of channel.messages) {\n",
              "        // Send a message to notify the kernel that we're ready.\n",
              "        channel.send({})\n",
              "        if (message.buffers) {\n",
              "          for (const buffer of message.buffers) {\n",
              "            buffers.push(buffer);\n",
              "            downloaded += buffer.byteLength;\n",
              "            progress.value = downloaded;\n",
              "          }\n",
              "        }\n",
              "      }\n",
              "      const blob = new Blob(buffers, {type: 'application/binary'});\n",
              "      const a = document.createElement('a');\n",
              "      a.href = window.URL.createObjectURL(blob);\n",
              "      a.download = filename;\n",
              "      div.appendChild(a);\n",
              "      a.click();\n",
              "      div.remove();\n",
              "    }\n",
              "  "
            ],
            "text/plain": [
              "<IPython.core.display.Javascript object>"
            ]
          },
          "metadata": {
            "tags": []
          }
        },
        {
          "output_type": "display_data",
          "data": {
            "application/javascript": [
              "download(\"download_fd45d0df-dbed-4fff-a9a1-7e6f6de26e3a\", \"remeasure_test.xls\", 802304)"
            ],
            "text/plain": [
              "<IPython.core.display.Javascript object>"
            ]
          },
          "metadata": {
            "tags": []
          }
        }
      ]
    }
  ]
}